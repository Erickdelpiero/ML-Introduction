{
 "cells": [
  {
   "cell_type": "markdown",
   "id": "4f1611d0",
   "metadata": {},
   "source": [
    "# Procesando DataSet de Diabetes"
   ]
  },
  {
   "cell_type": "code",
   "execution_count": null,
   "id": "9d00e6b2",
   "metadata": {},
   "outputs": [],
   "source": [
    "# Paquetes numéricos\n",
    "import numpy as np\n",
    "\n",
    "# DataFrames/Procesamiento\n",
    "import pandas as pd\n",
    "\n",
    "# Gráficas\n",
    "import matplotlib.pyplot as plt"
   ]
  }
 ],
 "metadata": {
  "kernelspec": {
   "display_name": "Python 3 (ipykernel)",
   "language": "python",
   "name": "python3"
  },
  "language_info": {
   "codemirror_mode": {
    "name": "ipython",
    "version": 3
   },
   "file_extension": ".py",
   "mimetype": "text/x-python",
   "name": "python",
   "nbconvert_exporter": "python",
   "pygments_lexer": "ipython3",
   "version": "3.11.4"
  }
 },
 "nbformat": 4,
 "nbformat_minor": 5
}
